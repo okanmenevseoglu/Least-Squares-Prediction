{
 "cells": [
  {
   "cell_type": "markdown",
   "metadata": {},
   "source": [
    "## Problem:\n",
    "\n",
    "* Fit a polynomial of degree $K$ to all columns of the following dataset\n",
    "to predict number of vehicles in the years of $2016$,$2017$,$2018$,$2019$ and $2020$.\n",
    "\n",
    "$$\n",
    "y_i = \\sum_{k=0}^K w_k x_{i}^k + \\epsilon_i\n",
    "$$\n",
    "\n",
    "\n",
    "* Fit an AR model to each data sequence \n",
    "$$\n",
    "y_i = w_1 y_{i-1} + \\epsilon_i\n",
    "$$\n",
    "\n",
    "Which model would you prefer? Polynomial or AR?\n",
    "\n",
    "For each model, plot the data and your model fit $f = A w^*$\n",
    "\n",
    "### Bonus: \n",
    "Use cross validation for finding the best polynomial order and describe you approach.\n",
    "\n"
   ]
  },
  {
   "cell_type": "markdown",
   "metadata": {},
   "source": [
    "### Solution\n",
    "\n",
    "#### I defined both Polynomial and AR Model for each of the columns from the dataset. Green dots represent the AR Model and the red dots represent the Polynomial Model.\n",
    "#### And I would prefer the Polynomial Model or AR Model depending on my data. Because if the data is regular, AR Model gives more accurate results. On the other hand if the data is fluctuating or some part of the data is missing, Polynomial Model gives more accurate results."
   ]
  },
  {
   "cell_type": "code",
   "execution_count": 56,
   "metadata": {
    "collapsed": false
   },
   "outputs": [],
   "source": [
    "import pandas as pd\n",
    "import numpy as np\n",
    "import matplotlib.pylab as plt\n",
    "\n",
    "%matplotlib inline\n",
    "\n",
    "df_arac = pd.read_csv(u'data/arac.csv',sep=';')"
   ]
  },
  {
   "cell_type": "markdown",
   "metadata": {},
   "source": [
    "## 01. Polynomial and AR Model For All Vehicles"
   ]
  },
  {
   "cell_type": "code",
   "execution_count": 57,
   "metadata": {
    "collapsed": false
   },
   "outputs": [
    {
     "name": "stdout",
     "output_type": "stream",
     "text": [
      "Polynomial Model\n",
      "[[ 20.08634605]\n",
      " [ 20.98194705]\n",
      " [ 21.89755951]\n",
      " [ 22.83318344]\n",
      " [ 23.78881884]]\n",
      "\n",
      "AR Model\n",
      "[[ 21.102748]\n",
      " [ 22.398372]\n",
      " [ 23.773542]\n",
      " [ 25.233142]\n",
      " [ 26.782356]]\n"
     ]
    },
    {
     "data": {
      "image/png": "[encoded data removed]",
      "text/plain": [
       "<matplotlib.figure.Figure at 0x1728ed37160>"
      ]
     },
     "metadata": {},
     "output_type": "display_data"
    }
   ],
   "source": [
    "# Polynomial Model for All Vehicles\n",
    "x = np.matrix(df_arac.Year).T\n",
    "y = np.matrix(df_arac.All).T / 1000000\n",
    "\n",
    "# Setup the vandermonde matrix for year values\n",
    "degree = 2\n",
    "A = np.hstack(np.power(x, i) for i in range(degree + 1))\n",
    "\n",
    "# Find the w* matrix\n",
    "w_ls, E, rank, sigma = np.linalg.lstsq(A, y)\n",
    "\n",
    "plt.plot(x, y, 'o-')\n",
    "plt.xlabel('Years')\n",
    "plt.ylabel('Number of Vehicles (Millions)')\n",
    "\n",
    "# Prediction\n",
    "TargetYear = np.matrix([2016, 2017, 2018, 2019, 2020]).T\n",
    "A2 = np.hstack(np.power(TargetYear, i) for i in range(degree + 1))\n",
    "f = A2 * w_ls\n",
    "\n",
    "print(\"Polynomial Model\")\n",
    "print(f)\n",
    "plt.plot(TargetYear, f, 'ro-')\n",
    "\n",
    "# AR Model for All Vehicles\n",
    "y2 = np.matrix(df_arac.All[1:]).T\n",
    "A3 = np.matrix(df_arac.All[:-1]).T\n",
    "\n",
    "w_ls, E, rank, sigma = np.linalg.lstsq(A3, y2)\n",
    "\n",
    "f2 = np.matrix([2016, 2017, 2018, 2019, 2020]).T\n",
    "f2[0] = y2[-1] * w_ls;\n",
    "\n",
    "for i in range(len(f2) - 1):\n",
    "    f2[i+1] = f2[i] * w_ls\n",
    "\n",
    "print(\"\\nAR Model\")\n",
    "print(f2 / 1000000)\n",
    "\n",
    "plt.plot(TargetYear, f2 / 1000000, 'go-')\n",
    "plt.show()"
   ]
  },
  {
   "cell_type": "markdown",
   "metadata": {},
   "source": [
    "## 02. Polynomial and AR Model For Cars"
   ]
  },
  {
   "cell_type": "code",
   "execution_count": 58,
   "metadata": {
    "collapsed": false
   },
   "outputs": [
    {
     "name": "stdout",
     "output_type": "stream",
     "text": [
      "Polynomial Model\n",
      "[[ 10.40481153]\n",
      " [ 10.87924341]\n",
      " [ 11.36444102]\n",
      " [ 11.86040435]\n",
      " [ 12.36713341]]\n",
      "\n",
      "AR Model\n",
      "[[ 11.203217]\n",
      " [ 11.943   ]\n",
      " [ 12.731633]\n",
      " [ 13.572342]\n",
      " [ 14.468565]]\n"
     ]
    },
    {
     "data": {
      "image/png": "[encoded data removed]",
      "text/plain": [
       "<matplotlib.figure.Figure at 0x1728eecefd0>"
      ]
     },
     "metadata": {},
     "output_type": "display_data"
    }
   ],
   "source": [
    "# Polynomial Model for Cars\n",
    "x = np.matrix(df_arac.Year).T\n",
    "y = np.matrix(df_arac.Car).T / 1000000\n",
    "\n",
    "# Setup the vandermonde matrix for year values\n",
    "degree = 2\n",
    "A = np.hstack(np.power(x, i) for i in range(degree + 1))\n",
    "\n",
    "# Find the w* matrix\n",
    "w_ls, E, rank, sigma = np.linalg.lstsq(A, y)\n",
    "\n",
    "plt.plot(x, y, 'o-')\n",
    "plt.xlabel('Years')\n",
    "plt.ylabel('Number of Cars (Millions)')\n",
    "\n",
    "# Prediction\n",
    "TargetYear = np.matrix([2016, 2017, 2018, 2019, 2020]).T\n",
    "A2 = np.hstack(np.power(TargetYear, i) for i in range(degree + 1))\n",
    "f = A2 * w_ls\n",
    "\n",
    "print(\"Polynomial Model\")\n",
    "print(f)\n",
    "plt.plot(TargetYear, f, 'ro-')\n",
    "\n",
    "# AR Model for Cars\n",
    "y2 = np.matrix(df_arac.Car[1:]).T\n",
    "A3 = np.matrix(df_arac.Car[:-1]).T\n",
    "\n",
    "w_ls, E, rank, sigma = np.linalg.lstsq(A3, y2)\n",
    "\n",
    "f2 = np.matrix([2016, 2017, 2018, 2019, 2020]).T\n",
    "f2[0] = y2[-1] * w_ls;\n",
    "\n",
    "for i in range(len(f2) - 1):\n",
    "    f2[i+1] = f2[i] * w_ls\n",
    "\n",
    "print(\"\\nAR Model\")\n",
    "print(f2 / 1000000)\n",
    "\n",
    "plt.plot(TargetYear, f2 / 1000000, 'go-')\n",
    "plt.show()"
   ]
  },
  {
   "cell_type": "markdown",
   "metadata": {},
   "source": [
    "## 03. Polynomial and AR Model For Minibuses"
   ]
  },
  {
   "cell_type": "code",
   "execution_count": 59,
   "metadata": {
    "collapsed": false
   },
   "outputs": [
    {
     "name": "stdout",
     "output_type": "stream",
     "text": [
      "Polynomial Model\n",
      "[[ 483.84034099]\n",
      " [ 502.09693153]\n",
      " [ 520.7029608 ]\n",
      " [ 539.6584288 ]\n",
      " [ 558.96333553]]\n",
      "\n",
      "AR Model\n",
      "[[ 465.835]\n",
      " [ 485.657]\n",
      " [ 506.323]\n",
      " [ 527.868]\n",
      " [ 550.33 ]]\n"
     ]
    },
    {
     "data": {
      "image/png": "[encoded data removed]",
      "text/plain": [
       "<matplotlib.figure.Figure at 0x1728f0d8978>"
      ]
     },
     "metadata": {},
     "output_type": "display_data"
    }
   ],
   "source": [
    "# Polynomial Model for Minibuses\n",
    "x = np.matrix(df_arac.Year).T\n",
    "y = np.matrix(df_arac.Minibus).T / 1000\n",
    "\n",
    "# Setup the vandermonde matrix for year values\n",
    "degree = 2\n",
    "A = np.hstack(np.power(x, i) for i in range(degree + 1))\n",
    "\n",
    "# Find the w* matrix\n",
    "w_ls, E, rank, sigma = np.linalg.lstsq(A, y)\n",
    "\n",
    "plt.plot(x, y, 'o-')\n",
    "plt.xlabel('Years')\n",
    "plt.ylabel('Number of Minibuses (Thousands)')\n",
    "\n",
    "# Prediction\n",
    "TargetYear = np.matrix([2016, 2017, 2018, 2019, 2020]).T\n",
    "A2 = np.hstack(np.power(TargetYear, i) for i in range(degree + 1))\n",
    "f = A2 * w_ls\n",
    "\n",
    "print(\"Polynomial Model\")\n",
    "print(f)\n",
    "plt.plot(TargetYear, f, 'ro-')\n",
    "\n",
    "# AR Model for Minibuses\n",
    "y2 = np.matrix(df_arac.Minibus[1:]).T\n",
    "A3 = np.matrix(df_arac.Minibus[:-1]).T\n",
    "\n",
    "w_ls, E, rank, sigma = np.linalg.lstsq(A3, y2)\n",
    "\n",
    "f2 = np.matrix([2016, 2017, 2018, 2019, 2020]).T\n",
    "f2[0] = y2[-1] * w_ls;\n",
    "\n",
    "for i in range(len(f2) - 1):\n",
    "    f2[i+1] = f2[i] * w_ls\n",
    "\n",
    "print(\"\\nAR Model\")\n",
    "print(f2 / 1000)\n",
    "\n",
    "plt.plot(TargetYear, f2 / 1000, 'go-')\n",
    "plt.show()"
   ]
  },
  {
   "cell_type": "markdown",
   "metadata": {},
   "source": [
    "## 04. Polynomial and AR Model For Buses"
   ]
  },
  {
   "cell_type": "code",
   "execution_count": 60,
   "metadata": {
    "collapsed": false
   },
   "outputs": [
    {
     "name": "stdout",
     "output_type": "stream",
     "text": [
      "Polynomial Model\n",
      "[[ 252.91263706]\n",
      " [ 262.7822212 ]\n",
      " [ 272.8524972 ]\n",
      " [ 283.12346505]\n",
      " [ 293.59512475]]\n",
      "\n",
      "AR Model\n",
      "[[ 224.461]\n",
      " [ 232.644]\n",
      " [ 241.125]\n",
      " [ 249.915]\n",
      " [ 259.026]]\n"
     ]
    },
    {
     "data": {
      "image/png": "[encoded data removed]",
      "text/plain": [
       "<matplotlib.figure.Figure at 0x1728db7c978>"
      ]
     },
     "metadata": {},
     "output_type": "display_data"
    }
   ],
   "source": [
    "# Polynomial Model for Buses\n",
    "x = np.matrix(df_arac.Year).T\n",
    "y = np.matrix(df_arac.Bus).T / 1000\n",
    "\n",
    "# Setup the vandermonde matrix for year values\n",
    "degree = 2\n",
    "A = np.hstack(np.power(x, i) for i in range(degree + 1))\n",
    "\n",
    "# Find the w* matrix\n",
    "w_ls, E, rank, sigma = np.linalg.lstsq(A, y)\n",
    "\n",
    "plt.plot(x, y, 'o-')\n",
    "plt.xlabel('Years')\n",
    "plt.ylabel('Number of Buses (Thousands)')\n",
    "\n",
    "# Prediction\n",
    "TargetYear = np.matrix([2016, 2017, 2018, 2019, 2020]).T\n",
    "A2 = np.hstack(np.power(TargetYear, i) for i in range(degree + 1))\n",
    "f = A2 * w_ls\n",
    "\n",
    "print(\"Polynomial Model\")\n",
    "print(f)\n",
    "plt.plot(TargetYear, f, 'ro-')\n",
    "\n",
    "# AR Model for Buses\n",
    "y2 = np.matrix(df_arac.Bus[1:]).T\n",
    "A3 = np.matrix(df_arac.Bus[:-1]).T\n",
    "\n",
    "w_ls, E, rank, sigma = np.linalg.lstsq(A3, y2)\n",
    "\n",
    "f2 = np.matrix([2016, 2017, 2018, 2019, 2020]).T\n",
    "f2[0] = y2[-1] * w_ls;\n",
    "\n",
    "for i in range(len(f2) - 1):\n",
    "    f2[i+1] = f2[i] * w_ls\n",
    "\n",
    "print(\"\\nAR Model\")\n",
    "print(f2 / 1000)\n",
    "\n",
    "plt.plot(TargetYear, f2 / 1000, 'go-')\n",
    "plt.show()"
   ]
  },
  {
   "cell_type": "markdown",
   "metadata": {},
   "source": [
    "## 05. Polynomial and AR Model For Small Trucks"
   ]
  },
  {
   "cell_type": "code",
   "execution_count": 61,
   "metadata": {
    "collapsed": false
   },
   "outputs": [
    {
     "name": "stdout",
     "output_type": "stream",
     "text": [
      "Polynomial Model\n",
      "[[ 3.26230509]\n",
      " [ 3.44393108]\n",
      " [ 3.6304001 ]\n",
      " [ 3.82171214]\n",
      " [ 4.01786722]]\n",
      "\n",
      "AR Model\n",
      "[[ 3.48994 ]\n",
      " [ 3.764617]\n",
      " [ 4.060913]\n",
      " [ 4.380529]\n",
      " [ 4.7253  ]]\n"
     ]
    },
    {
     "data": {
      "image/png": "[encoded data removed]",
      "text/plain": [
       "<matplotlib.figure.Figure at 0x1728db73048>"
      ]
     },
     "metadata": {},
     "output_type": "display_data"
    }
   ],
   "source": [
    "# Polynomial Model for Small Trucks\n",
    "x = np.matrix(df_arac.Year).T\n",
    "y = np.matrix(df_arac.SmallTruck).T / 1000000\n",
    "\n",
    "# Setup the vandermonde matrix for year values\n",
    "degree = 2\n",
    "A = np.hstack(np.power(x, i) for i in range(degree + 1))\n",
    "\n",
    "# Find the w* matrix\n",
    "w_ls, E, rank, sigma = np.linalg.lstsq(A, y)\n",
    "\n",
    "plt.plot(x, y, 'o-')\n",
    "plt.xlabel('Years')\n",
    "plt.ylabel('Number of Small Trucks (Millions)')\n",
    "\n",
    "# Prediction\n",
    "TargetYear = np.matrix([2016, 2017, 2018, 2019, 2020]).T\n",
    "A2 = np.hstack(np.power(TargetYear, i) for i in range(degree + 1))\n",
    "f = A2 * w_ls\n",
    "\n",
    "print(\"Polynomial Model\")\n",
    "print(f)\n",
    "plt.plot(TargetYear, f, 'ro-')\n",
    "\n",
    "# AR Model for Small Trucks\n",
    "y2 = np.matrix(df_arac.SmallTruck[1:]).T\n",
    "A3 = np.matrix(df_arac.SmallTruck[:-1]).T\n",
    "\n",
    "w_ls, E, rank, sigma = np.linalg.lstsq(A3, y2)\n",
    "\n",
    "f2 = np.matrix([2016, 2017, 2018, 2019, 2020]).T\n",
    "f2[0] = y2[-1] * w_ls;\n",
    "\n",
    "for i in range(len(f2) - 1):\n",
    "    f2[i+1] = f2[i] * w_ls\n",
    "\n",
    "print(\"\\nAR Model\")\n",
    "print(f2 / 1000000)\n",
    "\n",
    "plt.plot(TargetYear, f2 / 1000000, 'go-')\n",
    "plt.show()"
   ]
  },
  {
   "cell_type": "markdown",
   "metadata": {},
   "source": [
    "## 06. Polynomial and AR Model For Trucks"
   ]
  },
  {
   "cell_type": "code",
   "execution_count": 62,
   "metadata": {
    "collapsed": false,
    "scrolled": false
   },
   "outputs": [
    {
     "name": "stdout",
     "output_type": "stream",
     "text": [
      "Polynomial Model\n",
      "[[ 0.88618509]\n",
      " [ 0.91870462]\n",
      " [ 0.95186043]\n",
      " [ 0.98565249]\n",
      " [ 1.02008082]]\n",
      "\n",
      "AR Model\n",
      "[[ 0.831361]\n",
      " [ 0.861136]\n",
      " [ 0.891978]\n",
      " [ 0.923924]\n",
      " [ 0.957014]]\n"
     ]
    },
    {
     "data": {
      "image/png": "[encoded data removed]",
      "text/plain": [
       "<matplotlib.figure.Figure at 0x1728ee81c18>"
      ]
     },
     "metadata": {},
     "output_type": "display_data"
    }
   ],
   "source": [
    "# Polynomial Model for Trucks\n",
    "x = np.matrix(df_arac.Year).T\n",
    "y = np.matrix(df_arac.Truck).T / 1000000\n",
    "\n",
    "# Setup the vandermonde matrix for year values\n",
    "degree = 2\n",
    "A = np.hstack(np.power(x, i) for i in range(degree + 1))\n",
    "\n",
    "# Find the w* matrix\n",
    "w_ls, E, rank, sigma = np.linalg.lstsq(A, y)\n",
    "\n",
    "plt.plot(x, y, 'o-')\n",
    "plt.xlabel('Years')\n",
    "plt.ylabel('Number of Trucks (Millions)')\n",
    "\n",
    "# Prediction\n",
    "TargetYear = np.matrix([2016, 2017, 2018, 2019, 2020]).T\n",
    "A2 = np.hstack(np.power(TargetYear, i) for i in range(degree + 1))\n",
    "f = A2 * w_ls\n",
    "\n",
    "print(\"Polynomial Model\")\n",
    "print(f)\n",
    "plt.plot(TargetYear, f, 'ro-')\n",
    "\n",
    "# AR Model for Trucks\n",
    "y2 = np.matrix(df_arac.Truck[1:]).T\n",
    "A3 = np.matrix(df_arac.Truck[:-1]).T\n",
    "\n",
    "w_ls, E, rank, sigma = np.linalg.lstsq(A3, y2)\n",
    "\n",
    "f2 = np.matrix([2016, 2017, 2018, 2019, 2020]).T\n",
    "f2[0] = y2[-1] * w_ls;\n",
    "\n",
    "for i in range(len(f2) - 1):\n",
    "    f2[i+1] = f2[i] * w_ls\n",
    "\n",
    "print(\"\\nAR Model\")\n",
    "print(f2 / 1000000)\n",
    "\n",
    "plt.plot(TargetYear, f2 / 1000000, 'go-')\n",
    "plt.show()"
   ]
  },
  {
   "cell_type": "markdown",
   "metadata": {},
   "source": [
    "## 07. Polynomial and AR Model For Motorcycles"
   ]
  },
  {
   "cell_type": "code",
   "execution_count": 63,
   "metadata": {
    "collapsed": false
   },
   "outputs": [
    {
     "name": "stdout",
     "output_type": "stream",
     "text": [
      "Polynomial Model\n",
      "[[ 3.07044836]\n",
      " [ 3.21851027]\n",
      " [ 3.37010876]\n",
      " [ 3.52524384]\n",
      " [ 3.68391551]]\n",
      "\n",
      "AR Model\n",
      "[[ 3.11872 ]\n",
      " [ 3.309631]\n",
      " [ 3.512229]\n",
      " [ 3.727229]\n",
      " [ 3.95539 ]]\n"
     ]
    },
    {
     "data": {
      "image/png": "[encoded data removed]",
      "text/plain": [
       "<matplotlib.figure.Figure at 0x1728efa6780>"
      ]
     },
     "metadata": {},
     "output_type": "display_data"
    }
   ],
   "source": [
    "# Polynomial Model for Motorcycles\n",
    "x = np.matrix(df_arac.Year).T\n",
    "y = np.matrix(df_arac.Motorcycle).T / 1000000\n",
    "\n",
    "# Setup the vandermonde matrix for year values\n",
    "degree = 2\n",
    "A = np.hstack(np.power(x, i) for i in range(degree + 1))\n",
    "\n",
    "# Find the w* matrix\n",
    "w_ls, E, rank, sigma = np.linalg.lstsq(A, y)\n",
    "\n",
    "plt.plot(x, y, 'o-')\n",
    "plt.xlabel('Years')\n",
    "plt.ylabel('Number of Motorcycles (Millions)')\n",
    "\n",
    "# Prediction\n",
    "TargetYear = np.matrix([2016, 2017, 2018, 2019, 2020]).T\n",
    "A2 = np.hstack(np.power(TargetYear, i) for i in range(degree + 1))\n",
    "f = A2* w_ls\n",
    "\n",
    "print(\"Polynomial Model\")\n",
    "print(f)\n",
    "plt.plot(TargetYear, f, 'ro-')\n",
    "\n",
    "# AR Model for Motorcycles\n",
    "y2 = np.matrix(df_arac.Motorcycle[1:]).T\n",
    "A3 = np.matrix(df_arac.Motorcycle[:-1]).T\n",
    "\n",
    "w_ls, E, rank, sigma = np.linalg.lstsq(A3, y2)\n",
    "\n",
    "f2 = np.mat([2016, 2017, 2018, 2019, 2020]).T\n",
    "f2[0] = y2[-1] * w_ls;\n",
    "\n",
    "for i in range(len(f2) - 1):\n",
    "    f2[i+1] = f2[i] * w_ls\n",
    "\n",
    "print(\"\\nAR Model\")\n",
    "print(f2 / 1000000)\n",
    "\n",
    "plt.plot(TargetYear, f2 / 1000000, 'go-')\n",
    "\n",
    "plt.show()"
   ]
  },
  {
   "cell_type": "markdown",
   "metadata": {},
   "source": [
    "## 08. Polynomial and AR Model For Special Vehicles"
   ]
  },
  {
   "cell_type": "code",
   "execution_count": 64,
   "metadata": {
    "collapsed": false
   },
   "outputs": [
    {
     "name": "stdout",
     "output_type": "stream",
     "text": [
      "Polynomial Model\n",
      "[[ 50.73522612]\n",
      " [ 51.69836519]\n",
      " [ 52.66150425]\n",
      " [ 53.62464331]\n",
      " [ 54.58778238]]\n",
      "\n",
      "AR Model\n",
      "[[ 45.494]\n",
      " [ 45.853]\n",
      " [ 46.215]\n",
      " [ 46.58 ]\n",
      " [ 46.948]]\n"
     ]
    },
    {
     "data": {
      "image/png": "[encoded data removed]",
      "text/plain": [
       "<matplotlib.figure.Figure at 0x1728ee26d30>"
      ]
     },
     "metadata": {},
     "output_type": "display_data"
    }
   ],
   "source": [
    "# Polynomial Model for Special Vehicles\n",
    "x = np.matrix(df_arac.Year).T\n",
    "y = np.matrix(df_arac.SpecialVehicles).T / 1000\n",
    "\n",
    "# Setup the vandermonde matrix for year values\n",
    "degree = 1\n",
    "A = np.hstack(np.power(x, i) for i in range(degree + 1))\n",
    "\n",
    "# Find the w* matrix\n",
    "w_ls, E, rank, sigma = np.linalg.lstsq(A, y)\n",
    "\n",
    "plt.plot(x, y, 'o-')\n",
    "plt.xlabel('Years')\n",
    "plt.ylabel('Number of Special Vehicles (Thousands)')\n",
    "\n",
    "# Prediction\n",
    "TargetYear = np.matrix([2016, 2017, 2018, 2019, 2020]).T\n",
    "A2 = np.hstack(np.power(TargetYear, i) for i in range(degree + 1))\n",
    "f = A2 * w_ls\n",
    "\n",
    "print(\"Polynomial Model\")\n",
    "print(f)\n",
    "plt.plot(TargetYear, f, 'ro-')\n",
    "\n",
    "# AR Model for Special Vehicles\n",
    "y2 = np.matrix(df_arac.SpecialVehicles[1:]).T\n",
    "A3 = np.matrix(df_arac.SpecialVehicles[:-1]).T\n",
    "\n",
    "w_ls, E, rank, sigma = np.linalg.lstsq(A3, y2)\n",
    "\n",
    "f2 = np.mat([2016, 2017, 2018, 2019, 2020]).T\n",
    "f2[0] = y2[-1] * w_ls;\n",
    "\n",
    "for i in range(len(f2) - 1):\n",
    "    f2[i+1] = f2[i] * w_ls\n",
    "\n",
    "print(\"\\nAR Model\")\n",
    "print(f2 / 1000)\n",
    "\n",
    "plt.plot(TargetYear, f2 / 1000, 'go-')\n",
    "plt.show()"
   ]
  },
  {
   "cell_type": "markdown",
   "metadata": {},
   "source": [
    "## 09. Polynomial and AR Model For Machinery"
   ]
  },
  {
   "cell_type": "code",
   "execution_count": 65,
   "metadata": {
    "collapsed": false
   },
   "outputs": [
    {
     "name": "stdout",
     "output_type": "stream",
     "text": [
      "Polynomial Model\n",
      "[[ 255.60024787]\n",
      " [ 265.47630378]\n",
      " [ 275.54072336]\n",
      " [ 285.79350659]\n",
      " [ 296.23465349]]\n",
      "\n",
      "AR Model\n",
      "[[ 145.967]\n",
      " [ 154.469]\n",
      " [ 163.466]\n",
      " [ 172.987]\n",
      " [ 183.063]]\n"
     ]
    },
    {
     "data": {
      "image/png": "[encoded data removed]",
      "text/plain": [
       "<matplotlib.figure.Figure at 0x1728ef00c50>"
      ]
     },
     "metadata": {},
     "output_type": "display_data"
    }
   ],
   "source": [
    "# Polynomial Model for Machinery\n",
    "x = np.matrix(df_arac.Year[0:38]).T\n",
    "y = np.matrix(df_arac.Machinery[0:38]).T / 1000\n",
    "\n",
    "# Setup the vandermonde matrix for year values\n",
    "degree = 2\n",
    "A = np.hstack(np.power(x, i) for i in range(degree + 1))\n",
    "\n",
    "# Find the w* matrix\n",
    "w_ls, E, rank, sigma = np.linalg.lstsq(A, y)\n",
    "\n",
    "plt.plot(x, y, 'o-')\n",
    "plt.xlabel('Years')\n",
    "plt.ylabel('Number of Machinery (Thousands)')\n",
    "\n",
    "# Prediction\n",
    "TargetYear = np.matrix([2016, 2017, 2018, 2019, 2020]).T\n",
    "A2 = np.hstack(np.power(TargetYear, i) for i in range(degree + 1))\n",
    "f = A2 * w_ls\n",
    "\n",
    "print(\"Polynomial Model\")\n",
    "print(f)\n",
    "plt.plot(TargetYear, f, 'ro-')\n",
    "\n",
    "# AR Model for Machinery\n",
    "y2 = np.matrix(df_arac.Machinery[1:38]).T\n",
    "A3 = np.matrix(df_arac.Machinery[:37]).T\n",
    "\n",
    "w_ls, E, rank, sigma = np.linalg.lstsq(A3, y2)\n",
    "\n",
    "f2 = np.mat([2016, 2017, 2018, 2019, 2020]).T\n",
    "f2[0] = y2[-1] * w_ls;\n",
    "\n",
    "for i in range(len(f2) - 1):\n",
    "    f2[i+1] = f2[i] * w_ls\n",
    "\n",
    "print(\"\\nAR Model\")\n",
    "print(f2 / 1000)\n",
    "\n",
    "plt.plot(TargetYear, f2 / 1000, 'o-')\n",
    "plt.show()"
   ]
  },
  {
   "cell_type": "markdown",
   "metadata": {},
   "source": [
    "## 10. Polynomial and AR Model For Tractors"
   ]
  },
  {
   "cell_type": "code",
   "execution_count": 66,
   "metadata": {
    "collapsed": false
   },
   "outputs": [
    {
     "name": "stdout",
     "output_type": "stream",
     "text": [
      "Polynomial Model\n",
      "[[ 1.68367252]\n",
      " [ 1.72021749]\n",
      " [ 1.75676245]\n",
      " [ 1.79330742]\n",
      " [ 1.82985239]]\n",
      "\n",
      "AR Model\n",
      "[[ 1.745228]\n",
      " [ 1.804883]\n",
      " [ 1.866577]\n",
      " [ 1.93038 ]\n",
      " [ 1.996364]]\n"
     ]
    },
    {
     "data": {
      "image/png": "[encoded data removed]",
      "text/plain": [
       "<matplotlib.figure.Figure at 0x1728f01ce80>"
      ]
     },
     "metadata": {},
     "output_type": "display_data"
    }
   ],
   "source": [
    "# Polynomial Model for Tractors\n",
    "x = np.matrix(df_arac.Year[13:]).T\n",
    "y = np.matrix(df_arac.Tractor[13:]).T / 1000000\n",
    "\n",
    "# Setup the vandermonde matrix for year values\n",
    "degree = 1\n",
    "A = np.hstack(np.power(x, i) for i in range(degree + 1))\n",
    "\n",
    "# Find the w* matrix\n",
    "w_ls, E, rank, sigma = np.linalg.lstsq(A, y)\n",
    "\n",
    "plt.plot(x, y, 'o-')\n",
    "plt.xlabel('Years')\n",
    "plt.ylabel('Number of Tractors (Millions)')\n",
    "\n",
    "# Prediction\n",
    "TargetYear = np.matrix([2016, 2017, 2018, 2019, 2020]).T\n",
    "A2 = np.hstack(np.power(TargetYear, i) for i in range(degree + 1))\n",
    "f = A2 * w_ls\n",
    "\n",
    "print(\"Polynomial Model\")\n",
    "print(f)\n",
    "plt.plot(TargetYear, f, 'ro-')\n",
    "\n",
    "# AR Model for Tractors\n",
    "y2 = np.matrix(df_arac.Tractor[15:]).T\n",
    "A3 = np.matrix(df_arac.Tractor[14:-1]).T\n",
    "\n",
    "w_ls, E, rank, sigma = np.linalg.lstsq(A3, y2)\n",
    "\n",
    "f2 = np.mat([2016, 2017, 2018, 2019, 2020]).T\n",
    "f2[0] = y2[-1] * w_ls;\n",
    "\n",
    "for i in range(len(f2) - 1):\n",
    "    f2[i+1] = f2[i] * w_ls\n",
    "\n",
    "print(\"\\nAR Model\")\n",
    "print(f2 / 1000000)\n",
    "\n",
    "plt.plot(TargetYear, f2 / 1000000, 'go-')\n",
    "plt.show()"
   ]
  },
  {
   "cell_type": "code",
   "execution_count": null,
   "metadata": {
    "collapsed": true
   },
   "outputs": [],
   "source": []
  }
 ],
 "metadata": {
  "kernelspec": {
   "display_name": "Python 3",
   "language": "python",
   "name": "python3"
  },
  "language_info": {
   "codemirror_mode": {
    "name": "ipython",
    "version": 3
   },
   "file_extension": ".py",
   "mimetype": "text/x-python",
   "name": "python",
   "nbconvert_exporter": "python",
   "pygments_lexer": "ipython3",
   "version": "3.5.1"
  }
 },
 "nbformat": 4,
 "nbformat_minor": 0
}
